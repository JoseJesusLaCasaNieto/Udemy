{
  "nbformat": 4,
  "nbformat_minor": 0,
  "metadata": {
    "colab": {
      "provenance": []
    },
    "kernelspec": {
      "name": "python3",
      "display_name": "Python 3"
    },
    "language_info": {
      "name": "python"
    }
  },
  "cells": [
    {
      "cell_type": "markdown",
      "source": [
        "# 09. PyTorch Model Deployment"
      ],
      "metadata": {
        "id": "Rp5M327hqPU2"
      }
    },
    {
      "cell_type": "code",
      "source": [],
      "metadata": {
        "id": "MLLVt9m1qhD7"
      },
      "execution_count": null,
      "outputs": []
    }
  ]
}