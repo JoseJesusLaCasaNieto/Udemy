{
  "nbformat": 4,
  "nbformat_minor": 0,
  "metadata": {
    "colab": {
      "provenance": []
    },
    "kernelspec": {
      "name": "python3",
      "display_name": "Python 3"
    },
    "language_info": {
      "name": "python"
    }
  },
  "cells": [
    {
      "cell_type": "markdown",
      "source": [
        "# 08. PyTorch Paper Replicating"
      ],
      "metadata": {
        "id": "hVGxmaj0-zxy"
      }
    },
    {
      "cell_type": "code",
      "source": [],
      "metadata": {
        "id": "t01FyV2_--a6"
      },
      "execution_count": null,
      "outputs": []
    }
  ]
}