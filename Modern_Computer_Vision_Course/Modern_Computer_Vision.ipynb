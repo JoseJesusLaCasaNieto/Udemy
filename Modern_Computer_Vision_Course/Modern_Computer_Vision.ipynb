{
  "nbformat": 4,
  "nbformat_minor": 0,
  "metadata": {
    "colab": {
      "provenance": []
    },
    "kernelspec": {
      "name": "python3",
      "display_name": "Python 3"
    },
    "language_info": {
      "name": "python"
    }
  },
  "cells": [
    {
      "cell_type": "markdown",
      "source": [
        "# Modern Computer Vision Course"
      ],
      "metadata": {
        "id": "GnGzokkNhPAG"
      }
    },
    {
      "cell_type": "code",
      "source": [],
      "metadata": {
        "id": "HK8DCvA-hVv-"
      },
      "execution_count": null,
      "outputs": []
    }
  ]
}